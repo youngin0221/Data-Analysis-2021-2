{
 "metadata": {
  "language_info": {
   "codemirror_mode": {
    "name": "ipython",
    "version": 3
   },
   "file_extension": ".py",
   "mimetype": "text/x-python",
   "name": "python",
   "nbconvert_exporter": "python",
   "pygments_lexer": "ipython3",
   "version": "3.8.5"
  },
  "orig_nbformat": 2,
  "kernelspec": {
   "name": "python385jvsc74a57bd08c1eae21719a0790335dcb83aad72b63b602cfe5cdb2bda0f60bc11d4f154e4b",
   "display_name": "Python 3.8.5 64-bit ('base': conda)"
  }
 },
 "nbformat": 4,
 "nbformat_minor": 2,
 "cells": [
  {
   "source": [
    "### 시계열 자료 다루기"
   ],
   "cell_type": "markdown",
   "metadata": {}
  },
  {
   "cell_type": "code",
   "execution_count": 1,
   "metadata": {},
   "outputs": [],
   "source": [
    "import numpy as np\n",
    "import pandas as pd"
   ]
  },
  {
   "cell_type": "code",
   "execution_count": 2,
   "metadata": {},
   "outputs": [
    {
     "output_type": "execute_result",
     "data": {
      "text/plain": [
       "DatetimeIndex(['2018-01-01', '2018-01-04', '2018-01-05', '2018-01-06',\n",
       "               '2018-01-07'],\n",
       "              dtype='datetime64[ns]', freq=None)"
      ]
     },
     "metadata": {},
     "execution_count": 2
    }
   ],
   "source": [
    "date_str = [\"2018, 1, 1\", \"2018-1-4\", \"20180105\", \"2018.1.6\", \"010718\"]\n",
    "idx = pd.to_datetime(date_str)\n",
    "idx"
   ]
  },
  {
   "cell_type": "code",
   "execution_count": 3,
   "metadata": {},
   "outputs": [
    {
     "output_type": "execute_result",
     "data": {
      "text/plain": [
       "2018-01-01    1.488609\n",
       "2018-01-04    0.676011\n",
       "2018-01-05   -0.418451\n",
       "2018-01-06   -0.806521\n",
       "2018-01-07    0.555876\n",
       "dtype: float64"
      ]
     },
     "metadata": {},
     "execution_count": 3
    }
   ],
   "source": [
    "np.random.seed(2021)\n",
    "s = pd.Series(np.random.randn(5), index=idx)\n",
    "s"
   ]
  },
  {
   "cell_type": "code",
   "execution_count": 4,
   "metadata": {},
   "outputs": [
    {
     "output_type": "execute_result",
     "data": {
      "text/plain": [
       "DatetimeIndex(['2021-06-01', '2021-06-02', '2021-06-03', '2021-06-04',\n",
       "               '2021-06-05', '2021-06-06', '2021-06-07', '2021-06-08',\n",
       "               '2021-06-09', '2021-06-10', '2021-06-11', '2021-06-12',\n",
       "               '2021-06-13', '2021-06-14', '2021-06-15', '2021-06-16',\n",
       "               '2021-06-17', '2021-06-18', '2021-06-19', '2021-06-20',\n",
       "               '2021-06-21', '2021-06-22', '2021-06-23', '2021-06-24',\n",
       "               '2021-06-25', '2021-06-26', '2021-06-27', '2021-06-28',\n",
       "               '2021-06-29', '2021-06-30'],\n",
       "              dtype='datetime64[ns]', freq='D')"
      ]
     },
     "metadata": {},
     "execution_count": 4
    }
   ],
   "source": [
    "pd.date_range('20210601', '20210630')"
   ]
  },
  {
   "cell_type": "code",
   "execution_count": 5,
   "metadata": {},
   "outputs": [
    {
     "output_type": "execute_result",
     "data": {
      "text/plain": [
       "DatetimeIndex(['2021-06-01', '2021-06-02', '2021-06-03', '2021-06-04',\n",
       "               '2021-06-05', '2021-06-06', '2021-06-07', '2021-06-08',\n",
       "               '2021-06-09', '2021-06-10', '2021-06-11', '2021-06-12',\n",
       "               '2021-06-13', '2021-06-14', '2021-06-15', '2021-06-16',\n",
       "               '2021-06-17', '2021-06-18', '2021-06-19', '2021-06-20',\n",
       "               '2021-06-21', '2021-06-22', '2021-06-23', '2021-06-24',\n",
       "               '2021-06-25', '2021-06-26', '2021-06-27', '2021-06-28',\n",
       "               '2021-06-29', '2021-06-30'],\n",
       "              dtype='datetime64[ns]', freq='D')"
      ]
     },
     "metadata": {},
     "execution_count": 5
    }
   ],
   "source": [
    "pd.date_range('20210601', periods=30)"
   ]
  },
  {
   "cell_type": "code",
   "execution_count": 6,
   "metadata": {},
   "outputs": [
    {
     "output_type": "execute_result",
     "data": {
      "text/plain": [
       "DatetimeIndex(['2021-06-01', '2021-06-02', '2021-06-03', '2021-06-04',\n",
       "               '2021-06-07', '2021-06-08', '2021-06-09', '2021-06-10',\n",
       "               '2021-06-11', '2021-06-14', '2021-06-15', '2021-06-16',\n",
       "               '2021-06-17', '2021-06-18', '2021-06-21', '2021-06-22',\n",
       "               '2021-06-23', '2021-06-24', '2021-06-25', '2021-06-28',\n",
       "               '2021-06-29', '2021-06-30'],\n",
       "              dtype='datetime64[ns]', freq='B')"
      ]
     },
     "metadata": {},
     "execution_count": 6
    }
   ],
   "source": [
    "pd.date_range('20210601', '20210630', freq='B')  # 주말이 아닌 평일"
   ]
  },
  {
   "cell_type": "code",
   "execution_count": 7,
   "metadata": {},
   "outputs": [
    {
     "output_type": "execute_result",
     "data": {
      "text/plain": [
       "DatetimeIndex(['2021-06-06', '2021-06-13', '2021-06-20', '2021-06-27'], dtype='datetime64[ns]', freq='W-SUN')"
      ]
     },
     "metadata": {},
     "execution_count": 7
    }
   ],
   "source": [
    "pd.date_range('20210601', '20210630', freq='W')   # 주(일요일)"
   ]
  },
  {
   "cell_type": "code",
   "execution_count": 8,
   "metadata": {},
   "outputs": [
    {
     "output_type": "execute_result",
     "data": {
      "text/plain": [
       "DatetimeIndex(['2021-01-31', '2021-02-28', '2021-03-31', '2021-04-30',\n",
       "               '2021-05-31', '2021-06-30', '2021-07-31', '2021-08-31',\n",
       "               '2021-09-30', '2021-10-31', '2021-11-30', '2021-12-31'],\n",
       "              dtype='datetime64[ns]', freq='M')"
      ]
     },
     "metadata": {},
     "execution_count": 8
    }
   ],
   "source": [
    "pd.date_range('20210101', '20211231', freq='M')   # 각 달(month)의 마지막 날"
   ]
  },
  {
   "source": [
    "- resample"
   ],
   "cell_type": "markdown",
   "metadata": {}
  },
  {
   "cell_type": "code",
   "execution_count": 9,
   "metadata": {},
   "outputs": [
    {
     "output_type": "execute_result",
     "data": {
      "text/plain": [
       "2018-04-01   -0.125939\n",
       "2018-04-02   -0.432416\n",
       "2018-04-03    0.425937\n",
       "2018-04-04    0.756636\n",
       "2018-04-05   -0.994854\n",
       "2018-04-06   -0.740574\n",
       "2018-04-07    0.458233\n",
       "2018-04-08    1.257247\n",
       "2018-04-09   -0.441704\n",
       "2018-04-10    0.541335\n",
       "Freq: D, dtype: float64"
      ]
     },
     "metadata": {},
     "execution_count": 9
    }
   ],
   "source": [
    "ts = pd.Series(np.random.randn(100), \n",
    "                index=pd.date_range(\"2018-1-1\", periods=100))\n",
    "ts.tail(10)"
   ]
  },
  {
   "cell_type": "code",
   "execution_count": 10,
   "metadata": {},
   "outputs": [
    {
     "output_type": "execute_result",
     "data": {
      "text/plain": [
       "2018-01-07    0.126454\n",
       "2018-01-14   -0.465620\n",
       "2018-01-21    0.485757\n",
       "2018-01-28    0.895867\n",
       "2018-02-04   -0.528141\n",
       "2018-02-11    0.158783\n",
       "2018-02-18   -0.370440\n",
       "2018-02-25    0.328590\n",
       "2018-03-04    0.140790\n",
       "2018-03-11   -0.202126\n",
       "2018-03-18    0.313662\n",
       "2018-03-25    0.927967\n",
       "2018-04-01   -0.115911\n",
       "2018-04-08    0.104316\n",
       "2018-04-15    0.049816\n",
       "Freq: W-SUN, dtype: float64"
      ]
     },
     "metadata": {},
     "execution_count": 10
    }
   ],
   "source": [
    "ts.resample('W').mean()"
   ]
  },
  {
   "cell_type": "code",
   "execution_count": 11,
   "metadata": {},
   "outputs": [
    {
     "output_type": "execute_result",
     "data": {
      "text/plain": [
       "2018-01-31   -0.705504\n",
       "2018-02-28   -1.044744\n",
       "2018-03-31    0.141464\n",
       "2018-04-30   -0.125939\n",
       "Freq: M, dtype: float64"
      ]
     },
     "metadata": {},
     "execution_count": 11
    }
   ],
   "source": [
    "ts.resample('M').first()"
   ]
  }
 ]
}