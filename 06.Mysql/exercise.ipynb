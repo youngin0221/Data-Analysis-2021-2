{
 "metadata": {
  "language_info": {
   "codemirror_mode": {
    "name": "ipython",
    "version": 3
   },
   "file_extension": ".py",
   "mimetype": "text/x-python",
   "name": "python",
   "nbconvert_exporter": "python",
   "pygments_lexer": "ipython3",
   "version": "3.8.5"
  },
  "orig_nbformat": 2,
  "kernelspec": {
   "name": "python385jvsc74a57bd08c1eae21719a0790335dcb83aad72b63b602cfe5cdb2bda0f60bc11d4f154e4b",
   "display_name": "Python 3.8.5 64-bit ('base': conda)"
  }
 },
 "nbformat": 4,
 "nbformat_minor": 2,
 "cells": [
  {
   "cell_type": "code",
   "execution_count": 2,
   "metadata": {},
   "outputs": [],
   "source": [
    "sql = '''\n",
    "SELECT r.continent, COUNT(*), round(AVG(l.population), 2) FROM city AS l \n",
    "    JOIN country AS r ON l.CountryCode=r.Code \n",
    "    GROUP BY r.Continent \n",
    "    ORDER BY AVG(l.population) desc;\n",
    "'''"
   ]
  },
  {
   "source": [
    "1. 2009년에 데뷔한 걸그룹 정보를 조회"
   ],
   "cell_type": "markdown",
   "metadata": {}
  },
  {
   "source": [
    "2. 2009년에 데뷔한 걸그룹의 히트송은?"
   ],
   "cell_type": "markdown",
   "metadata": {}
  },
  {
   "source": [
    "3. 대륙별로 국가숫자, GNP의 합, 평균 국가별 GNP는?"
   ],
   "cell_type": "markdown",
   "metadata": {}
  },
  {
   "cell_type": "code",
   "execution_count": null,
   "metadata": {},
   "outputs": [],
   "source": [
    "SELECT continent, COUNT(*), round(SUM(gnp)), round(AVG(gnp)) FROM country\n",
    "\tGROUP BY continent;"
   ]
  },
  {
   "source": [
    "4. 아시아 대륙에서 인구가 가장 많은 도시 10개를 내림차순으로 보여줄 것"
   ],
   "cell_type": "markdown",
   "metadata": {}
  },
  {
   "cell_type": "code",
   "execution_count": null,
   "metadata": {},
   "outputs": [],
   "source": [
    "SELECT r.Continent, r.`Name` AS Country, l.`Name` AS City, l.population FROM city AS l\n",
    "\tJOIN country AS r ON l.countrycode=r.Code\n",
    "\tWHERE r.Continent='Asia'\n",
    "\tORDER BY l.Population DESC\n",
    "\tLIMIT 10;"
   ]
  },
  {
   "source": [
    "5. 전 세계에서 인구가 가장 많은 10개 도시에서 사용하는 공식언어는?"
   ],
   "cell_type": "markdown",
   "metadata": {}
  },
  {
   "cell_type": "code",
   "execution_count": null,
   "metadata": {},
   "outputs": [],
   "source": [
    "SELECT l.`Name`, l.Population, r.`Language` FROM city AS l\n",
    "\tJOIN countrylanguage AS r\n",
    "\tON l.CountryCode=r.CountryCode\n",
    "\tWHERE r.IsOfficial='T'\n",
    "\tORDER BY l.Population DESC\n",
    "\tLIMIT 10;"
   ]
  },
  {
   "source": [
    "야구단 테이블 만들기"
   ],
   "cell_type": "markdown",
   "metadata": {}
  },
  {
   "cell_type": "code",
   "execution_count": null,
   "metadata": {},
   "outputs": [],
   "source": [
    "CREATE TABLE team(\n",
    "\t`id` INT PRIMARY KEY AUTO_INCREMENT,\n",
    "\t`back_no` INT NOT NULL,\n",
    "\t`name` VARCHAR(10) NOT NULL,\n",
    "\t`position` VARCHAR(10) NOT NULL,\n",
    "\t`salary` INT UNSIGNED DEFAULT 0)"
   ]
  },
  {
   "cell_type": "code",
   "execution_count": null,
   "metadata": {},
   "outputs": [],
   "source": [
    "INSERT INTO team (`back_no`, `name`, `position`, `salary`)\n",
    " \tVALUES(28, '장시환', '투수', 154000000),\n",
    " \t\t\t(43, '정은원', '내야수', 120000000),\n",
    " \t\t\t(26, '허관회', '포수', 31000000),\n",
    " \t\t\t(16, '하주석', '내야수', 135000000),\n",
    " \t\t\t(8, '노시환', '내야수', 60000000),\n",
    " \t\t\t(25, '힐리', '내야수', 557500000),\n",
    " \t\t\t(33, '정진호', '외야수', 120000000),\n",
    " \t\t\t(30, '장운호', '외야수', 35000000),\n",
    " \t\t\t(4, '조한민', '내야수', 34000000),\n",
    " \t\t\t(19, '강상원', '외야수', 30000000);"
   ]
  }
 ]
}