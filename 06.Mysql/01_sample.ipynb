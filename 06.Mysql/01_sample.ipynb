{
 "metadata": {
  "language_info": {
   "codemirror_mode": {
    "name": "ipython",
    "version": 3
   },
   "file_extension": ".py",
   "mimetype": "text/x-python",
   "name": "python",
   "nbconvert_exporter": "python",
   "pygments_lexer": "ipython3",
   "version": "3.8.5"
  },
  "orig_nbformat": 2,
  "kernelspec": {
   "name": "python385jvsc74a57bd08c1eae21719a0790335dcb83aad72b63b602cfe5cdb2bda0f60bc11d4f154e4b",
   "display_name": "Python 3.8.5 64-bit ('base': conda)"
  }
 },
 "nbformat": 4,
 "nbformat_minor": 2,
 "cells": [
  {
   "source": [
    "# Python 에서 MySQL 사용하기"
   ],
   "cell_type": "markdown",
   "metadata": {}
  },
  {
   "cell_type": "code",
   "execution_count": 1,
   "metadata": {},
   "outputs": [],
   "source": [
    "import json\n",
    "import pymysql"
   ]
  },
  {
   "cell_type": "code",
   "execution_count": 2,
   "metadata": {},
   "outputs": [
    {
     "output_type": "execute_result",
     "data": {
      "text/plain": [
       "'{\\n    \"host\": \"localhost\",\\n    \"user\": \"hkuser\",\\n    \"password\": \"hkpass\",\\n    \"database\": \"world\",\\n    \"port\": 3306\\n}'"
      ]
     },
     "metadata": {},
     "execution_count": 2
    }
   ],
   "source": [
    "with open('mysql.json', 'r') as file:\n",
    "    config_str = file.read()\n",
    "config_str"
   ]
  },
  {
   "cell_type": "code",
   "execution_count": 3,
   "metadata": {},
   "outputs": [
    {
     "output_type": "execute_result",
     "data": {
      "text/plain": [
       "{'host': 'localhost',\n",
       " 'user': 'hkuser',\n",
       " 'password': 'hkpass',\n",
       " 'database': 'world',\n",
       " 'port': 3306}"
      ]
     },
     "metadata": {},
     "execution_count": 3
    }
   ],
   "source": [
    "# json parsing\n",
    "config = json.loads(config_str)\n",
    "config   # 딕셔너리 형태로"
   ]
  },
  {
   "source": [
    "- connection 객체 만들기"
   ],
   "cell_type": "markdown",
   "metadata": {}
  },
  {
   "cell_type": "code",
   "execution_count": 11,
   "metadata": {},
   "outputs": [],
   "source": [
    "conn = pymysql.connect(\n",
    "    host = config['host'],\n",
    "    user = config['user'],\n",
    "    password = config['password'],\n",
    "    database = config['database'],\n",
    "    port = config['port'],\n",
    ")"
   ]
  },
  {
   "cell_type": "code",
   "execution_count": 13,
   "metadata": {},
   "outputs": [],
   "source": [
    "cur = conn.cursor()"
   ]
  },
  {
   "cell_type": "code",
   "execution_count": 14,
   "metadata": {},
   "outputs": [
    {
     "output_type": "execute_result",
     "data": {
      "text/plain": [
       "10"
      ]
     },
     "metadata": {},
     "execution_count": 14
    }
   ],
   "source": [
    "sql = 'select * from team;'\n",
    "cur.execute(sql)\n"
   ]
  },
  {
   "cell_type": "code",
   "execution_count": 15,
   "metadata": {},
   "outputs": [
    {
     "output_type": "stream",
     "name": "stdout",
     "text": [
      "(1, 28, '장시환', '투수', 154000000)\n(2, 43, '정은원', '내야수', 120000000)\n(3, 26, '허관회', '포수', 31000000)\n(4, 16, '하주석', '내야수', 135000000)\n(5, 8, '노시환', '내야수', 60000000)\n(6, 25, '힐리', '내야수', 557500000)\n(7, 33, '정진호', '외야수', 120000000)\n(8, 30, '장운호', '외야수', 35000000)\n(9, 4, '조한민', '내야수', 34000000)\n(10, 19, '강상원', '외야수', 30000000)\n"
     ]
    }
   ],
   "source": [
    "rows = cur.fetchall()\n",
    "for row in rows:\n",
    "    print(row)"
   ]
  },
  {
   "source": [
    "- Resource 반환"
   ],
   "cell_type": "markdown",
   "metadata": {}
  },
  {
   "cell_type": "code",
   "execution_count": 16,
   "metadata": {},
   "outputs": [],
   "source": [
    "cur.close()\n",
    "con.close()"
   ]
  }
 ]
}