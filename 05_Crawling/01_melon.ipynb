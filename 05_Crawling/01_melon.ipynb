{
 "metadata": {
  "language_info": {
   "codemirror_mode": {
    "name": "ipython",
    "version": 3
   },
   "file_extension": ".py",
   "mimetype": "text/x-python",
   "name": "python",
   "nbconvert_exporter": "python",
   "pygments_lexer": "ipython3",
   "version": "3.8.5"
  },
  "orig_nbformat": 2,
  "kernelspec": {
   "name": "python385jvsc74a57bd08c1eae21719a0790335dcb83aad72b63b602cfe5cdb2bda0f60bc11d4f154e4b",
   "display_name": "Python 3.8.5 64-bit ('base': conda)"
  }
 },
 "nbformat": 4,
 "nbformat_minor": 2,
 "cells": [
  {
   "source": [
    "# Melon 주간 차트 크롤링"
   ],
   "cell_type": "markdown",
   "metadata": {}
  },
  {
   "cell_type": "code",
   "execution_count": 2,
   "metadata": {},
   "outputs": [],
   "source": [
    "import requests\n",
    "import pandas as pd"
   ]
  },
  {
   "cell_type": "code",
   "execution_count": 10,
   "metadata": {},
   "outputs": [],
   "source": [
    "# 지니뮤직 차트\n",
    "url = \"https://www.genie.co.kr/chart/top200\"\n",
    "req = requests.get(url)\n",
    "html = req.text\n",
    "# html"
   ]
  },
  {
   "source": [
    "# 한빛 아카데미\n",
    "url = \"https://www.hanbit.co.kr/academy/\"\n",
    "req = requests.get(url)\n",
    "html = req.text\n",
    "# html"
   ],
   "cell_type": "code",
   "metadata": {},
   "execution_count": null,
   "outputs": []
  },
  {
   "cell_type": "code",
   "execution_count": 6,
   "metadata": {},
   "outputs": [
    {
     "output_type": "execute_result",
     "data": {
      "text/plain": [
       "''"
      ]
     },
     "metadata": {},
     "execution_count": 6
    }
   ],
   "source": [
    "# 멜론 주간차트\n",
    "url = \"https://www.melon.com/chart/week/index.htm\"\n",
    "req = requests.get(url)\n",
    "html = req.text\n",
    "html"
   ]
  },
  {
   "cell_type": "code",
   "execution_count": 14,
   "metadata": {},
   "outputs": [],
   "source": [
    "# 멜론 주간차트\n",
    "# header에 User-Agent 값을 주어야만 데이터를 가져올 수 있음\n",
    "url = \"https://www.melon.com/chart/week/index.htm\"\n",
    "header = {\"User-Agent\":\n",
    "        \"Mozilla/5.0 (Windows NT 10.0; Win64; x64) AppleWebKit/537.36 (KHTML, like Gecko) Chrome/91.0.4472.77 Safari/537.36\"}\n",
    "req = requests.get(url, headers=header)\n",
    "html = req.text\n",
    "# html"
   ]
  },
  {
   "cell_type": "code",
   "execution_count": 21,
   "metadata": {},
   "outputs": [],
   "source": [
    "from bs4 import BeautifulSoup\n",
    "soup = BeautifulSoup(html, 'html.parser')"
   ]
  },
  {
   "source": [
    "- Copy selector : #lst50 > td:nth-child(6) > div > div > div.ellipsis.rank02 > a\n",
    "- Copy XPath : //*[@id=\"lst50\"]/td[6]/div/div/div[2]/a"
   ],
   "cell_type": "markdown",
   "metadata": {}
  },
  {
   "cell_type": "code",
   "execution_count": 43,
   "metadata": {},
   "outputs": [
    {
     "output_type": "execute_result",
     "data": {
      "text/plain": [
       "50"
      ]
     },
     "metadata": {},
     "execution_count": 43
    }
   ],
   "source": [
    "trs = soup.select('#lst50')\n",
    "len(trs)"
   ]
  },
  {
   "cell_type": "code",
   "execution_count": 44,
   "metadata": {},
   "outputs": [
    {
     "output_type": "execute_result",
     "data": {
      "text/plain": [
       "<tr class=\"lst50\" data-song-no=\"33507137\" id=\"lst50\">\n",
       "<td><div class=\"wrap t_right\"><input class=\"input_check\" name=\"input_check\" title=\"Butter 곡 선택\" type=\"checkbox\" value=\"33507137\"/></div></td>\n",
       "<td><div class=\"wrap t_center\"><span class=\"rank\">1</span><span class=\"none\">위</span></div></td>\n",
       "<!-- 차트순위 추가 -->\n",
       "<td><div class=\"wrap\">\n",
       "<span class=\"rank_wrap\" title=\"14단계 상승\">\n",
       "<span class=\"bullet_icons rank_up\"><span class=\"none\">단계 상승</span></span>\n",
       "<span class=\"up\">14</span>\n",
       "</span>\n",
       "</div></td>\n",
       "<td><div class=\"wrap\">\n",
       "<a class=\"image_typeAll\" href=\"javascript:melon.link.goAlbumDetail('10612483');\" title=\"Butter\">\n",
       "<img alt=\"Butter - 페이지 이동\" height=\"60\" onerror=\"WEBPOCIMG.defaultAlbumImg(this);\" src=\"https://cdnimg.melon.co.kr/cm2/album/images/106/12/483/10612483_20210521111412_500.jpg/melon/resize/120/quality/80/optimize\" width=\"60\">\n",
       "<span class=\"bg_album_frame\"></span>\n",
       "</img></a>\n",
       "</div></td>\n",
       "<td><div class=\"wrap\">\n",
       "<a class=\"btn button_icons type03 song_info\" href=\"javascript:melon.link.goSongDetail('33507137');\" title=\"Butter 곡정보\"><span class=\"none\">곡정보</span></a>\n",
       "</div></td>\n",
       "<td><div class=\"wrap\">\n",
       "<div class=\"wrap_song_info\">\n",
       "<div class=\"ellipsis rank01\"><span>\n",
       "<a href=\"javascript:melon.play.playSong('19041301',33507137);\" title=\"Butter 재생\">Butter</a>\n",
       "</span></div><br/>\n",
       "<div class=\"ellipsis rank02\">\n",
       "<a href=\"javascript:melon.link.goArtistDetail('672375');\" title=\"방탄소년단 - 페이지 이동\">방탄소년단</a><span class=\"checkEllipsis\" style=\"display:none\"><a href=\"javascript:melon.link.goArtistDetail('672375');\" title=\"방탄소년단 - 페이지 이동\">방탄소년단</a></span>\n",
       "</div>\n",
       "</div>\n",
       "</div></td>\n",
       "<td><div class=\"wrap\">\n",
       "<div class=\"wrap_song_info\">\n",
       "<div class=\"ellipsis rank03\">\n",
       "<a href=\"javascript:melon.link.goAlbumDetail('10612483');\" title=\"Butter - 페이지 이동\">Butter</a>\n",
       "</div>\n",
       "</div>\n",
       "</div></td>\n",
       "<td><div class=\"wrap\">\n",
       "<button class=\"button_etc like\" data-song-menuid=\"19041301\" data-song-no=\"33507137\" title=\"Butter 좋아요\" type=\"button\">\n",
       "<span class=\"odd_span\">좋아요</span>\n",
       "<span class=\"cnt\">\n",
       "<span class=\"none\">총건수</span>\n",
       "\t\t\t\t\t\t\t\t\t\t\t\t0\n",
       "\t\t\t\t\t\t\t\t\t\t\t</span>\n",
       "</button>\n",
       "</div></td>\n",
       "<td><div class=\"wrap t_center\">\n",
       "<button class=\"button_icons play\" onclick=\"melon.play.playSong('19041301',33507137);\" title=\"듣기\" type=\"button\"><span class=\"none\">듣기</span></button>\n",
       "</div></td>\n",
       "<td><div class=\"wrap t_center\">\n",
       "<button class=\"button_icons scrap\" onclick=\"melon.play.addPlayList('33507137');\" title=\"담기\" type=\"button\"><span class=\"none\">담기</span></button>\n",
       "</div></td>\n",
       "<td><div class=\"wrap t_center\">\n",
       "<button class=\"button_icons download\" onclick=\"melon.buy.goBuyProduct('frm', '33507137', '3C0001', '','0', '19041301');\" title=\"다운로드\" type=\"button\"><span class=\"none\">다운로드</span></button>\n",
       "</div></td>\n",
       "<td><div class=\"wrap t_center\">\n",
       "<button class=\"button_icons video\" onclick=\"melon.link.goMvDetail('19041301', '33507137','song');\" title=\"뮤직비디오\" type=\"button\"><span class=\"none\">뮤직비디오</span></button>\n",
       "</div></td>\n",
       "</tr>"
      ]
     },
     "metadata": {},
     "execution_count": 44
    }
   ],
   "source": [
    "tr = trs[0]   # trs의 0번째 값\n",
    "tr"
   ]
  },
  {
   "cell_type": "code",
   "execution_count": 29,
   "metadata": {},
   "outputs": [
    {
     "output_type": "execute_result",
     "data": {
      "text/plain": [
       "1"
      ]
     },
     "metadata": {},
     "execution_count": 29
    }
   ],
   "source": [
    "# 순위\n",
    "rank = tr.select_one('.rank').string  # get_text()\n",
    "rank = int(rank)\n",
    "rank"
   ]
  },
  {
   "cell_type": "code",
   "execution_count": 31,
   "metadata": {},
   "outputs": [
    {
     "output_type": "execute_result",
     "data": {
      "text/plain": [
       "'Butter'"
      ]
     },
     "metadata": {},
     "execution_count": 31
    }
   ],
   "source": [
    "# 곡명\n",
    "title = tr.select_one('.ellipsis.rank01')\n",
    "title =title.find('a').get_text()\n",
    "title"
   ]
  },
  {
   "cell_type": "code",
   "execution_count": 34,
   "metadata": {},
   "outputs": [
    {
     "output_type": "execute_result",
     "data": {
      "text/plain": [
       "'방탄소년단'"
      ]
     },
     "metadata": {},
     "execution_count": 34
    }
   ],
   "source": [
    "# 가수\n",
    "artist = tr.select_one('.ellipsis.rank02')\n",
    "artist = artist.find('a').get_text()\n",
    "artist"
   ]
  },
  {
   "cell_type": "code",
   "execution_count": 35,
   "metadata": {},
   "outputs": [
    {
     "output_type": "execute_result",
     "data": {
      "text/plain": [
       "'Butter'"
      ]
     },
     "metadata": {},
     "execution_count": 35
    }
   ],
   "source": [
    "# 앨범\n",
    "album = tr.select_one('.ellipsis.rank03')\n",
    "album = album.find('a').string\n",
    "album"
   ]
  },
  {
   "source": [
    "- 50 곡에 대해서 데이터 프레임 만들기"
   ],
   "cell_type": "markdown",
   "metadata": {}
  },
  {
   "cell_type": "code",
   "execution_count": 52,
   "metadata": {},
   "outputs": [],
   "source": [
    "rank_list, title_list, artist_list, album_list = [], [], [], []\n",
    "for tr in trs:\n",
    "    rank = tr.select_one('.rank').string  # get_text()\n",
    "    rank = int(rank)\n",
    "\n",
    "    title = tr.select_one('.ellipsis.rank01')\n",
    "    title =title.find('a').get_text()\n",
    "\n",
    "    artist = tr.select_one('.ellipsis.rank02')\n",
    "    artist = artist.find('a').get_text()\n",
    "\n",
    "    album = tr.select_one('.ellipsis.rank03')\n",
    "    album = album.find('a').string\n",
    "\n",
    "    rank_list.append(rank)\n",
    "    title_list.append(title)\n",
    "    artist_list.append(artist)\n",
    "    album_list.append(album)"
   ]
  },
  {
   "cell_type": "code",
   "execution_count": 53,
   "metadata": {},
   "outputs": [
    {
     "output_type": "execute_result",
     "data": {
      "text/plain": [
       "   순위                                      곡명                 가수  \\\n",
       "0   1                                  Butter              방탄소년단   \n",
       "1   2                           Dun Dun Dance  오마이걸 (OH MY GIRL)   \n",
       "2   3  Peaches (Feat. Daniel Caesar & Giveon)      Justin Bieber   \n",
       "3   4                                   헤픈 우연        헤이즈 (Heize)   \n",
       "4   5                            롤린 (Rollin')             브레이브걸스   \n",
       "\n",
       "              앨범  \n",
       "0         Butter  \n",
       "1  Dear OHMYGIRL  \n",
       "2        Justice  \n",
       "3         HAPPEN  \n",
       "4        Rollin'  "
      ],
      "text/html": "<div>\n<style scoped>\n    .dataframe tbody tr th:only-of-type {\n        vertical-align: middle;\n    }\n\n    .dataframe tbody tr th {\n        vertical-align: top;\n    }\n\n    .dataframe thead th {\n        text-align: right;\n    }\n</style>\n<table border=\"1\" class=\"dataframe\">\n  <thead>\n    <tr style=\"text-align: right;\">\n      <th></th>\n      <th>순위</th>\n      <th>곡명</th>\n      <th>가수</th>\n      <th>앨범</th>\n    </tr>\n  </thead>\n  <tbody>\n    <tr>\n      <th>0</th>\n      <td>1</td>\n      <td>Butter</td>\n      <td>방탄소년단</td>\n      <td>Butter</td>\n    </tr>\n    <tr>\n      <th>1</th>\n      <td>2</td>\n      <td>Dun Dun Dance</td>\n      <td>오마이걸 (OH MY GIRL)</td>\n      <td>Dear OHMYGIRL</td>\n    </tr>\n    <tr>\n      <th>2</th>\n      <td>3</td>\n      <td>Peaches (Feat. Daniel Caesar &amp; Giveon)</td>\n      <td>Justin Bieber</td>\n      <td>Justice</td>\n    </tr>\n    <tr>\n      <th>3</th>\n      <td>4</td>\n      <td>헤픈 우연</td>\n      <td>헤이즈 (Heize)</td>\n      <td>HAPPEN</td>\n    </tr>\n    <tr>\n      <th>4</th>\n      <td>5</td>\n      <td>롤린 (Rollin')</td>\n      <td>브레이브걸스</td>\n      <td>Rollin'</td>\n    </tr>\n  </tbody>\n</table>\n</div>"
     },
     "metadata": {},
     "execution_count": 53
    }
   ],
   "source": [
    "df = pd.DataFrame({\n",
    "    '순위': rank_list,\n",
    "    '곡명': title_list,\n",
    "    '가수': artist_list,\n",
    "    '앨범': album_list\n",
    "})\n",
    "df.head()"
   ]
  },
  {
   "source": [
    "- 이미지 속성값 가져오기\n"
   ],
   "cell_type": "markdown",
   "metadata": {}
  },
  {
   "cell_type": "code",
   "execution_count": 47,
   "metadata": {},
   "outputs": [
    {
     "output_type": "execute_result",
     "data": {
      "text/plain": [
       "'https://cdnimg.melon.co.kr/cm2/album/images/106/12/483/10612483_20210521111412_500.jpg/melon/resize/120/quality/80/optimize'"
      ]
     },
     "metadata": {},
     "execution_count": 47
    }
   ],
   "source": [
    "image = trs[0].select_one('.image_typeAll').find('img')\n",
    "image = image['src']\n",
    "image"
   ]
  },
  {
   "source": [
    "- 100곡 모두 가져오기"
   ],
   "cell_type": "markdown",
   "metadata": {}
  },
  {
   "cell_type": "code",
   "execution_count": 57,
   "metadata": {},
   "outputs": [
    {
     "output_type": "execute_result",
     "data": {
      "text/plain": [
       "100"
      ]
     },
     "metadata": {},
     "execution_count": 57
    }
   ],
   "source": [
    "trs = soup.select('#lst50')\n",
    "trs2 = soup.select('#lst100')\n",
    "trs.extend(trs2)\n",
    "len(trs)"
   ]
  },
  {
   "cell_type": "code",
   "execution_count": 62,
   "metadata": {},
   "outputs": [
    {
     "output_type": "execute_result",
     "data": {
      "text/plain": [
       "   순위                                      곡명                 가수  \\\n",
       "0   1                                  Butter              방탄소년단   \n",
       "1   2                           Dun Dun Dance  오마이걸 (OH MY GIRL)   \n",
       "2   3  Peaches (Feat. Daniel Caesar & Giveon)      Justin Bieber   \n",
       "3   4                                   헤픈 우연        헤이즈 (Heize)   \n",
       "4   5                            롤린 (Rollin')             브레이브걸스   \n",
       "\n",
       "              앨범                                                이미지  \n",
       "0         Butter  https://cdnimg.melon.co.kr/cm2/album/images/10...  \n",
       "1  Dear OHMYGIRL  https://cdnimg.melon.co.kr/cm2/album/images/10...  \n",
       "2        Justice  https://cdnimg.melon.co.kr/cm2/album/images/10...  \n",
       "3         HAPPEN  https://cdnimg.melon.co.kr/cm2/album/images/10...  \n",
       "4        Rollin'  https://cdnimg.melon.co.kr/cm2/album/images/10...  "
      ],
      "text/html": "<div>\n<style scoped>\n    .dataframe tbody tr th:only-of-type {\n        vertical-align: middle;\n    }\n\n    .dataframe tbody tr th {\n        vertical-align: top;\n    }\n\n    .dataframe thead th {\n        text-align: right;\n    }\n</style>\n<table border=\"1\" class=\"dataframe\">\n  <thead>\n    <tr style=\"text-align: right;\">\n      <th></th>\n      <th>순위</th>\n      <th>곡명</th>\n      <th>가수</th>\n      <th>앨범</th>\n      <th>이미지</th>\n    </tr>\n  </thead>\n  <tbody>\n    <tr>\n      <th>0</th>\n      <td>1</td>\n      <td>Butter</td>\n      <td>방탄소년단</td>\n      <td>Butter</td>\n      <td>https://cdnimg.melon.co.kr/cm2/album/images/10...</td>\n    </tr>\n    <tr>\n      <th>1</th>\n      <td>2</td>\n      <td>Dun Dun Dance</td>\n      <td>오마이걸 (OH MY GIRL)</td>\n      <td>Dear OHMYGIRL</td>\n      <td>https://cdnimg.melon.co.kr/cm2/album/images/10...</td>\n    </tr>\n    <tr>\n      <th>2</th>\n      <td>3</td>\n      <td>Peaches (Feat. Daniel Caesar &amp; Giveon)</td>\n      <td>Justin Bieber</td>\n      <td>Justice</td>\n      <td>https://cdnimg.melon.co.kr/cm2/album/images/10...</td>\n    </tr>\n    <tr>\n      <th>3</th>\n      <td>4</td>\n      <td>헤픈 우연</td>\n      <td>헤이즈 (Heize)</td>\n      <td>HAPPEN</td>\n      <td>https://cdnimg.melon.co.kr/cm2/album/images/10...</td>\n    </tr>\n    <tr>\n      <th>4</th>\n      <td>5</td>\n      <td>롤린 (Rollin')</td>\n      <td>브레이브걸스</td>\n      <td>Rollin'</td>\n      <td>https://cdnimg.melon.co.kr/cm2/album/images/10...</td>\n    </tr>\n  </tbody>\n</table>\n</div>"
     },
     "metadata": {},
     "execution_count": 62
    }
   ],
   "source": [
    "rank_list, title_list, artist_list, album_list, image_list = [], [], [], [], []\n",
    "for tr in trs:\n",
    "    rank = tr.select_one('.rank').string  # get_text()\n",
    "    rank = int(rank)\n",
    "\n",
    "    title = tr.select_one('.ellipsis.rank01')\n",
    "    title =title.find('a').get_text()\n",
    "\n",
    "    artist = tr.select_one('.ellipsis.rank02')\n",
    "    artist = artist.find('a').get_text()\n",
    "\n",
    "    album = tr.select_one('.ellipsis.rank03')\n",
    "    album = album.find('a').string\n",
    "\n",
    "    image = trs[0].select_one('.image_typeAll').find('img')\n",
    "    image = image['src']\n",
    "\n",
    "    rank_list.append(rank)\n",
    "    title_list.append(title)\n",
    "    artist_list.append(artist)\n",
    "    album_list.append(album)\n",
    "    image_list.append(image)\n",
    "\n",
    "    df = pd.DataFrame({\n",
    "    '순위': rank_list,\n",
    "    '곡명': title_list,\n",
    "    '가수': artist_list,\n",
    "    '앨범': album_list,\n",
    "    '이미지': image_list\n",
    "})\n",
    "df.head()"
   ]
  },
  {
   "source": [
    "- 파일에 저장하기"
   ],
   "cell_type": "markdown",
   "metadata": {}
  },
  {
   "cell_type": "code",
   "execution_count": 66,
   "metadata": {},
   "outputs": [
    {
     "output_type": "execute_result",
     "data": {
      "text/plain": [
       "'2021.05.24 ~ 2021.05.30'"
      ]
     },
     "metadata": {},
     "execution_count": 66
    }
   ],
   "source": [
    "period = soup.select_one('.yyyymmdd').get_text().strip()\n",
    "period"
   ]
  },
  {
   "cell_type": "code",
   "execution_count": 68,
   "metadata": {},
   "outputs": [],
   "source": [
    "filename = f'melon({period}).csv'\n",
    "df.to_csv(filename, index=False, sep=',', encoding='utf8')"
   ]
  }
 ]
}