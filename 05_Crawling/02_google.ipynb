{
 "metadata": {
  "language_info": {
   "codemirror_mode": {
    "name": "ipython",
    "version": 3
   },
   "file_extension": ".py",
   "mimetype": "text/x-python",
   "name": "python",
   "nbconvert_exporter": "python",
   "pygments_lexer": "ipython3",
   "version": "3.8.5"
  },
  "orig_nbformat": 2,
  "kernelspec": {
   "name": "python385jvsc74a57bd08c1eae21719a0790335dcb83aad72b63b602cfe5cdb2bda0f60bc11d4f154e4b",
   "display_name": "Python 3.8.5 64-bit ('base': conda)"
  }
 },
 "nbformat": 4,
 "nbformat_minor": 2,
 "cells": [
  {
   "source": [
    "# Google 검색 크롤링하기"
   ],
   "cell_type": "markdown",
   "metadata": {}
  },
  {
   "source": [
    "### Selenium 이용"
   ],
   "cell_type": "markdown",
   "metadata": {}
  },
  {
   "cell_type": "code",
   "execution_count": 1,
   "metadata": {},
   "outputs": [],
   "source": [
    "import requests\n",
    "import pandas as pd"
   ]
  },
  {
   "cell_type": "code",
   "execution_count": 2,
   "metadata": {},
   "outputs": [],
   "source": [
    "url = \"https://google.com\"\n",
    "req = requests.get(url)\n",
    "html = req.text\n",
    "# html"
   ]
  },
  {
   "cell_type": "code",
   "execution_count": 3,
   "metadata": {},
   "outputs": [],
   "source": [
    "import time\n",
    "from selenium import webdriver\n",
    "from selenium.webdriver.common.keys import Keys"
   ]
  },
  {
   "cell_type": "code",
   "execution_count": 4,
   "metadata": {},
   "outputs": [],
   "source": [
    "driver = webdriver.Chrome('./chromedriver')\n",
    "driver.get('http://www.google.com')\n",
    "time.sleep(0.5)     # 0.5초 기다림"
   ]
  },
  {
   "cell_type": "code",
   "execution_count": 5,
   "metadata": {},
   "outputs": [],
   "source": [
    "search_box = driver.find_element_by_css_selector('.gLFyf.gsfi')\n",
    "search_box.send_keys('ChromeDriver')"
   ]
  },
  {
   "cell_type": "code",
   "execution_count": 6,
   "metadata": {},
   "outputs": [],
   "source": [
    "search_box.send_keys(Keys.ENTER)   # Keys.RETURN\n",
    "time.sleep(1)"
   ]
  },
  {
   "cell_type": "code",
   "execution_count": 7,
   "metadata": {},
   "outputs": [
    {
     "output_type": "execute_result",
     "data": {
      "text/plain": [
       "10"
      ]
     },
     "metadata": {},
     "execution_count": 7
    }
   ],
   "source": [
    "divs = driver.find_elements_by_css_selector('.g')\n",
    "len(divs)"
   ]
  },
  {
   "cell_type": "code",
   "execution_count": 8,
   "metadata": {},
   "outputs": [
    {
     "output_type": "execute_result",
     "data": {
      "text/plain": [
       "'WebDriver for Chrome - Downloads - ChromeDriver'"
      ]
     },
     "metadata": {},
     "execution_count": 8
    }
   ],
   "source": [
    "div =divs[0]\n",
    "title = div.find_element_by_css_selector('.LC20lb.DKV0Md').text\n",
    "title"
   ]
  },
  {
   "cell_type": "code",
   "execution_count": 9,
   "metadata": {},
   "outputs": [
    {
     "output_type": "execute_result",
     "data": {
      "text/plain": [
       "'Current Releases · ChromeDriver 91.0.4472.19 · ChromeDriver 90.0.4430.24 · ChromeDriver 89.0.4389.23 · ChromeDriver 88.0.4324.96 · ChromeDriver 88.0.'"
      ]
     },
     "metadata": {},
     "execution_count": 9
    }
   ],
   "source": [
    "content = div.find_element_by_css_selector('.IsZvec').text\n",
    "content"
   ]
  },
  {
   "cell_type": "code",
   "execution_count": 10,
   "metadata": {},
   "outputs": [
    {
     "output_type": "stream",
     "name": "stdout",
     "text": [
      "WebDriver for Chrome - Downloads - ChromeDriver\n",
      "Current Releases · ChromeDriver 91.0.4472.19 · ChromeDriver 90.0.4430.24 · ChromeDriver 89.0.4389.23 · ChromeDriver 88.0.4324.96 · ChromeDriver 88.0.\n",
      "=============================\n",
      "WebDriver for Chrome - Downloads - ChromeDriver\n",
      "Current Releases · ChromeDriver 91.0.4472.19 · ChromeDriver 90.0.4430.24 · ChromeDriver 89.0.4389.23 · ChromeDriver 88.0.4324.96 · ChromeDriver 88.0.\n",
      "=============================\n",
      "ChromeDriver - WebDriver for Chrome\n",
      "ChromeDriver · WebDriver is an open source tool for automated testing of webapps across many browsers. It provides capabilities for navigating to web pages, ...\n",
      "=============================\n",
      "크롬드라이버(Chrome Driver) 설치/다운로드 : 네이버 블로그\n",
      "2019. 12. 28. — Downloads - ChromeDriver - WebDriver for Chrome. WebDriver for Chrome. chromedriver.chromium.org. . 2. 본인 크롬 버전에 맞는 드라이버 ...\n",
      "=============================\n",
      "[ChromeDriver] 크롬 드라이버 버전에 따라 설정하는 방법\n",
      "2020. 6. 9. — Chrome 정보 클릭. 83. 어쩌고 버전입니다. 크롬드라이버 다운로드 사이트로 갑니다. https://chromedriver.chromium.org/downloads 여기서 버전에 ...\n",
      "=============================\n",
      "ChromeDriver - GitHub\n",
      "이 페이지에 관한 정보가 없습니다.\n",
      "이유 알아보기\n",
      "=============================\n",
      "chrome/test/chromedriver - chromium/src - Git at Google\n",
      "ChromeDriver is a standalone server which communicates with the WebDriver client via the WebDriver wire protocol, which is essentially synchronous JSON ...\n",
      "=============================\n",
      "ChromeDriver Storage\n",
      "Name, Last modified, Size, ETag. [DIR], 2.0, -, -, -. [DIR], 2.1, -, -, -. [DIR], 2.10, -, -, -. [DIR], 2.11, -, -, -. [DIR], 2.12, -, -, -. [DIR], 2.13, -, -, -. [DIR], 2.14, -, -, -. [DIR] ...\n",
      "=============================\n",
      "나만의 웹 크롤러 만들기(7): 창없는 크롬으로 크롤링하기 ...\n",
      "2017. 9. 27. — # chromdriver(windows는 chromedriver.exe)의 절대경로로 바꿔주세요! driver = webdriver.Chrome('chromedriver') driver.get('http:// ...\n",
      "=============================\n",
      "Selenium을 사용하고 싶습니다 - goorm - Guide of goorm\n",
      "ChromeDriver 다운로드. 아래 명령을 사용하여 크롬 드라이버를 다운로드 받을 수 있습니다. 명령을 그대로 실행하면 안되고, 중간에 [크롬 드라이버 버전] 위치에 ...\n",
      "=============================\n"
     ]
    }
   ],
   "source": [
    "for div in divs:\n",
    "    title = div.find_element_by_css_selector('.LC20lb.DKV0Md').text\n",
    "    content = div.find_element_by_css_selector('.IsZvec').text\n",
    "    print(title)\n",
    "    print(content)\n",
    "    print('=============================')"
   ]
  },
  {
   "source": [
    "- tag>tag : 자식 태그"
   ],
   "cell_type": "markdown",
   "metadata": {}
  },
  {
   "cell_type": "code",
   "execution_count": 11,
   "metadata": {},
   "outputs": [
    {
     "output_type": "execute_result",
     "data": {
      "text/plain": [
       "8"
      ]
     },
     "metadata": {},
     "execution_count": 11
    }
   ],
   "source": [
    "divs = driver.find_elements_by_css_selector('div#rso>div.g')\n",
    "len(divs)"
   ]
  },
  {
   "cell_type": "code",
   "execution_count": 12,
   "metadata": {},
   "outputs": [
    {
     "output_type": "stream",
     "name": "stdout",
     "text": [
      "WebDriver for Chrome - Downloads - ChromeDriver\n",
      "Current Releases · ChromeDriver 91.0.4472.19 · ChromeDriver 90.0.4430.24 · ChromeDriver 89.0.4389.23 · ChromeDriver 88.0.4324.96 · ChromeDriver 88.0.\n",
      "==============================\n",
      "ChromeDriver - WebDriver for Chrome\n",
      "ChromeDriver · WebDriver is an open source tool for automated testing of webapps across many browsers. It provides capabilities for navigating to web pages, ...\n",
      "==============================\n",
      "크롬드라이버(Chrome Driver) 설치/다운로드 : 네이버 블로그\n",
      "2019. 12. 28. — Downloads - ChromeDriver - WebDriver for Chrome. WebDriver for Chrome. chromedriver.chromium.org. . 2. 본인 크롬 버전에 맞는 드라이버 ...\n",
      "==============================\n",
      "[ChromeDriver] 크롬 드라이버 버전에 따라 설정하는 방법\n",
      "2020. 6. 9. — Chrome 정보 클릭. 83. 어쩌고 버전입니다. 크롬드라이버 다운로드 사이트로 갑니다. https://chromedriver.chromium.org/downloads 여기서 버전에 ...\n",
      "==============================\n",
      "ChromeDriver - GitHub\n",
      "이 페이지에 관한 정보가 없습니다.\n",
      "이유 알아보기\n",
      "==============================\n",
      "chrome/test/chromedriver - chromium/src - Git at Google\n",
      "ChromeDriver is a standalone server which communicates with the WebDriver client via the WebDriver wire protocol, which is essentially synchronous JSON ...\n",
      "==============================\n",
      "ChromeDriver Storage\n",
      "Name, Last modified, Size, ETag. [DIR], 2.0, -, -, -. [DIR], 2.1, -, -, -. [DIR], 2.10, -, -, -. [DIR], 2.11, -, -, -. [DIR], 2.12, -, -, -. [DIR], 2.13, -, -, -. [DIR], 2.14, -, -, -. [DIR] ...\n",
      "==============================\n",
      "나만의 웹 크롤러 만들기(7): 창없는 크롬으로 크롤링하기 ...\n",
      "2017. 9. 27. — # chromdriver(windows는 chromedriver.exe)의 절대경로로 바꿔주세요! driver = webdriver.Chrome('chromedriver') driver.get('http:// ...\n",
      "==============================\n"
     ]
    }
   ],
   "source": [
    "for div in divs:\n",
    "    title = div.find_element_by_css_selector('.LC20lb.DKV0Md').text\n",
    "    content = div.find_element_by_css_selector('.aCOpRe').text\n",
    "    print(title)\n",
    "    print(content)\n",
    "    print('==============================')"
   ]
  },
  {
   "cell_type": "code",
   "execution_count": 13,
   "metadata": {},
   "outputs": [],
   "source": [
    "driver.close()"
   ]
  }
 ]
}