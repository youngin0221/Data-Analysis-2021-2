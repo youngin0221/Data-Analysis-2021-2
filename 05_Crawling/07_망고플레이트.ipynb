{
 "metadata": {
  "language_info": {
   "codemirror_mode": {
    "name": "ipython",
    "version": 3
   },
   "file_extension": ".py",
   "mimetype": "text/x-python",
   "name": "python",
   "nbconvert_exporter": "python",
   "pygments_lexer": "ipython3",
   "version": "3.8.5"
  },
  "orig_nbformat": 2,
  "kernelspec": {
   "name": "python385jvsc74a57bd08c1eae21719a0790335dcb83aad72b63b602cfe5cdb2bda0f60bc11d4f154e4b",
   "display_name": "Python 3.8.5 64-bit ('base': conda)"
  }
 },
 "nbformat": 4,
 "nbformat_minor": 2,
 "cells": [
  {
   "source": [
    "# 충정로역 맛집 검색\n",
    "### 망고 플레이트 활용"
   ],
   "cell_type": "markdown",
   "metadata": {}
  },
  {
   "cell_type": "code",
   "execution_count": 1,
   "metadata": {},
   "outputs": [],
   "source": [
    "import time\n",
    "from selenium import webdriver\n",
    "from selenium.webdriver.common.keys import Keys\n",
    "import pandas as pd"
   ]
  },
  {
   "cell_type": "code",
   "execution_count": 2,
   "metadata": {},
   "outputs": [],
   "source": [
    "driver = webdriver.Chrome()\n",
    "driver.get('https://www.mangoplate.com/')\n",
    "time.sleep(1)"
   ]
  },
  {
   "cell_type": "code",
   "execution_count": 3,
   "metadata": {},
   "outputs": [],
   "source": [
    "# pop-up 창(iframe) 으로 이동해서 다시보지 않기 클릭\n",
    "driver.switch_to.frame('google_ads_iframe_/395211568/init/desktop_all_0')\n",
    "driver.find_element_by_css_selector('.ad_btn.ad_block_btn').click()"
   ]
  },
  {
   "cell_type": "code",
   "execution_count": 4,
   "metadata": {},
   "outputs": [],
   "source": [
    "# 메인 창으로 이동해서 검색 데이터 입력후 리턴\n",
    "driver.switch_to.default_content()\n",
    "search_box = driver.find_element_by_css_selector('#main-search')\n",
    "search_box.send_keys('충정로역')\n",
    "search_box.send_keys(Keys.ENTER)    # Keys.RETURN\n",
    "time.sleep(1)"
   ]
  },
  {
   "cell_type": "code",
   "execution_count": 5,
   "metadata": {},
   "outputs": [],
   "source": [
    "anchors = driver.find_elements_by_css_selector('p.paging>a')\n",
    "len_anchors = len(anchors)"
   ]
  },
  {
   "cell_type": "code",
   "execution_count": 6,
   "metadata": {},
   "outputs": [
    {
     "output_type": "stream",
     "name": "stdout",
     "text": [
      "0 0 위드미치코\n",
      "0 1 고릴라\n",
      "1 0 옐로우보울\n",
      "1 1 철길떡볶이\n",
      "2 0 충정각\n",
      "2 1 양드림식당\n",
      "3 0 깐쪼네\n",
      "3 1 깐부치킨 (충정로역점)\n",
      "4 0 청안식탁\n",
      "4 1 에뚜왈 (충정로점)\n",
      "5 0 세양원\n",
      "5 1 봉추찜닭 (서대문(충정로)점)\n",
      "6 0 차이리\n",
      "6 1 해주면가\n",
      "7 0 작은언덕 카페\n",
      "7 1 곽대리꼼대리닭대리\n",
      "8 0 대피공간\n",
      "8 1 벙커1\n",
      "9 0 마포갈비생고기전문점\n",
      "9 1 히비야\n",
      "0 0 남대문할매인삼족발\n",
      "0 1 이화수전통육개장 (충정로점)\n",
      "1 0 맨인문\n",
      "1 1 마포대도소곱창\n",
      "2 0 한라회관\n",
      "2 1 선어도 (충정로점)\n",
      "3 0 탕화쿵푸마라탕\n",
      "3 1 계림닭도리탕 (충정로점)\n",
      "4 0 피나포어25\n",
      "4 1 장모생각\n",
      "5 0 스타벅스 (충정타워점)\n",
      "5 1 청정골\n",
      "6 0 스타벅스 (충정로역점)\n",
      "6 1 해피박스\n",
      "7 0 동해원\n",
      "7 1 찐하오\n",
      "8 0 비진도해물뚝배기 (충정로점)\n",
      "8 1 형제네생소금구이\n",
      "9 0 까페나무야\n",
      "9 1 파리바게뜨 (충정디오빌점)\n",
      "0 0 Cafe imt (충정로점)\n",
      "0 1 서대문꼼장어\n",
      "1 0 불불이족발 (충정로역점)\n",
      "1 1 써브웨이 (충정로점)\n",
      "2 0 함흥냉면\n",
      "2 1 충정로 서서갈비\n",
      "3 0 이모네식당\n",
      "3 1 사랑죽\n",
      "4 0 피자인\n",
      "4 1 남원골\n",
      "5 0 호산나의정부부대찌개\n",
      "5 1 수정식당\n",
      "6 0 김솔솔김밥\n",
      "6 1 명문손칼국수\n",
      "7 0 국수나무 (충정로점)\n",
      "7 1 쏨쏨타이\n",
      "8 0 신현무관\n",
      "8 1 치킨마루 (충정로점)\n",
      "9 0 가마솥닭한마리칼국수\n",
      "9 1 루시바\n",
      "0 0 토담길갈치조림전문\n",
      "0 1 파우치커피 (충정로점)\n",
      "1 0 고려정\n",
      "1 1 본가한정식\n",
      "2 0 옛날남원식당\n",
      "2 1 할매추어탕\n",
      "3 0 해미수산 (충정로점)\n",
      "3 1 카파\n",
      "4 0 떡볶이만세\n",
      "4 1 놀부부대찌개&철판구이 (충정로역점)\n",
      "5 0 옛살비돌판구이\n",
      "5 1 내림손삼계탕 (충정로점)\n",
      "6 0 백암토종순대\n",
      "6 1 은성부대찌개\n",
      "7 0 카페리빈\n",
      "7 1 소담\n",
      "8 0 양마을\n",
      "8 1 영호네벌교꼬막\n",
      "9 0 곳찌\n",
      "9 1 손큰할매순대국 (충정로역점)\n",
      "0 0 왕십리전통곱창\n",
      "0 1 에스프레소인\n",
      "1 0 아현영양족발\n",
      "1 1 브라보\n",
      "2 0 원조봉순게장\n",
      "2 1 도우스\n",
      "3 0 미친피자 (서대문점)\n",
      "3 1 하얀꿈호프\n",
      "4 0 홍콩중화요리\n",
      "4 1 볏꽃주택\n"
     ]
    }
   ],
   "source": [
    "name_list, score_list, summary_list, addr_list, tel_list = [],[],[],[],[]\n",
    "for page in range(len_anchors):\n",
    "    anchors = driver.find_elements_by_css_selector('p.paging>a')\n",
    "    anchors[page].click()\n",
    "    time.sleep(2)\n",
    "\n",
    "    lis = driver.find_elements_by_css_selector('.list-restaurant')\n",
    "    len_lis = len(lis)\n",
    "    for index in range(len_lis):\n",
    "        lis = driver.find_elements_by_css_selector('.list-restaurant')\n",
    "        pair = lis[index].find_elements_by_css_selector('.list-restaurant-item')\n",
    "        for i in range(len(pair)):\n",
    "            lis = driver.find_elements_by_css_selector('.list-restaurant')\n",
    "            pair = lis[index].find_elements_by_css_selector('.list-restaurant-item')\n",
    "            info = pair[i].find_element_by_css_selector('.info')\n",
    "            name = info.find_element_by_css_selector('.title').text\n",
    "            summary = info.find_element_by_css_selector('.etc').text\n",
    "            print(index, i, name)\n",
    "\n",
    "            pair[i].find_element_by_css_selector('.only-desktop_not').click()\n",
    "            time.sleep(2)\n",
    "\n",
    "            try:\n",
    "                score = driver.find_element_by_css_selector('.rate-point').text\n",
    "            except:\n",
    "                score = 'NA'\n",
    "            table = driver.find_element_by_css_selector('table.info')\n",
    "            trs = driver.find_elements_by_css_selector('tbody>tr')\n",
    "            addr = trs[0].find_element_by_css_selector('td').text\n",
    "            addr = addr.split('\\n')[0]\n",
    "            tel = trs[1].find_element_by_css_selector('td').text\n",
    "\n",
    "            name_list.append(name)\n",
    "            score_list.append(score)\n",
    "            summary_list.append(summary)\n",
    "            addr_list.append(addr)\n",
    "            tel_list.append(tel)\n",
    "\n",
    "            driver.back()\n",
    "            time.sleep(1)"
   ]
  },
  {
   "cell_type": "code",
   "execution_count": 7,
   "metadata": {},
   "outputs": [],
   "source": [
    "driver.close()"
   ]
  },
  {
   "cell_type": "code",
   "execution_count": 8,
   "metadata": {},
   "outputs": [
    {
     "output_type": "execute_result",
     "data": {
      "text/plain": [
       "             상호  평점                    요약                        주소  \\\n",
       "85          도우스  NA          서대문구 - 기타 양식    서울특별시 서대문구 충정로4길 16 1F   \n",
       "86  미친피자 (서대문점)  NA          서대문구 - 기타 양식  서울특별시 서대문구 서소문로 27 충정리시온   \n",
       "87        하얀꿈호프  NA    서대문구 - 치킨 / 호프 / 펍       서울특별시 서대문구 충정로4길 17   \n",
       "88       홍콩중화요리  NA  서대문구 - 정통 중식 / 일반 중식      서울특별시 서대문구 충정로 13 B1   \n",
       "89         볏꽃주택  NA          서대문구 - 일반 주점       서울특별시 서대문구 충정로4길 20   \n",
       "\n",
       "           전화번호  \n",
       "85  02-365-7407  \n",
       "86  02-312-7571  \n",
       "87  02-362-4990  \n",
       "88  02-312-8811  \n",
       "89        일반 주점  "
      ],
      "text/html": "<div>\n<style scoped>\n    .dataframe tbody tr th:only-of-type {\n        vertical-align: middle;\n    }\n\n    .dataframe tbody tr th {\n        vertical-align: top;\n    }\n\n    .dataframe thead th {\n        text-align: right;\n    }\n</style>\n<table border=\"1\" class=\"dataframe\">\n  <thead>\n    <tr style=\"text-align: right;\">\n      <th></th>\n      <th>상호</th>\n      <th>평점</th>\n      <th>요약</th>\n      <th>주소</th>\n      <th>전화번호</th>\n    </tr>\n  </thead>\n  <tbody>\n    <tr>\n      <th>85</th>\n      <td>도우스</td>\n      <td>NA</td>\n      <td>서대문구 - 기타 양식</td>\n      <td>서울특별시 서대문구 충정로4길 16 1F</td>\n      <td>02-365-7407</td>\n    </tr>\n    <tr>\n      <th>86</th>\n      <td>미친피자 (서대문점)</td>\n      <td>NA</td>\n      <td>서대문구 - 기타 양식</td>\n      <td>서울특별시 서대문구 서소문로 27 충정리시온</td>\n      <td>02-312-7571</td>\n    </tr>\n    <tr>\n      <th>87</th>\n      <td>하얀꿈호프</td>\n      <td>NA</td>\n      <td>서대문구 - 치킨 / 호프 / 펍</td>\n      <td>서울특별시 서대문구 충정로4길 17</td>\n      <td>02-362-4990</td>\n    </tr>\n    <tr>\n      <th>88</th>\n      <td>홍콩중화요리</td>\n      <td>NA</td>\n      <td>서대문구 - 정통 중식 / 일반 중식</td>\n      <td>서울특별시 서대문구 충정로 13 B1</td>\n      <td>02-312-8811</td>\n    </tr>\n    <tr>\n      <th>89</th>\n      <td>볏꽃주택</td>\n      <td>NA</td>\n      <td>서대문구 - 일반 주점</td>\n      <td>서울특별시 서대문구 충정로4길 20</td>\n      <td>일반 주점</td>\n    </tr>\n  </tbody>\n</table>\n</div>"
     },
     "metadata": {},
     "execution_count": 8
    }
   ],
   "source": [
    "df = pd.DataFrame({\n",
    "    '상호': name_list,\n",
    "    '평점': score_list,\n",
    "    '요약': summary_list,\n",
    "    '주소': addr_list,\n",
    "    '전화번호': tel_list\n",
    "})\n",
    "df.tail()"
   ]
  },
  {
   "cell_type": "code",
   "execution_count": 9,
   "metadata": {},
   "outputs": [],
   "source": [
    "df.to_csv('충정로역맛집.csv', index=False, sep=',', encoding='utf8')"
   ]
  },
  {
   "cell_type": "code",
   "execution_count": null,
   "metadata": {},
   "outputs": [],
   "source": []
  }
 ]
}