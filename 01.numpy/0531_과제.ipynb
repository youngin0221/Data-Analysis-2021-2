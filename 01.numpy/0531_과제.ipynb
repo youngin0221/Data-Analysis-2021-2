{
 "metadata": {
  "language_info": {
   "codemirror_mode": {
    "name": "ipython",
    "version": 3
   },
   "file_extension": ".py",
   "mimetype": "text/x-python",
   "name": "python",
   "nbconvert_exporter": "python",
   "pygments_lexer": "ipython3",
   "version": "3.8.5"
  },
  "orig_nbformat": 2,
  "kernelspec": {
   "name": "python385jvsc74a57bd08c1eae21719a0790335dcb83aad72b63b602cfe5cdb2bda0f60bc11d4f154e4b",
   "display_name": "Python 3.8.5 64-bit ('base': conda)"
  }
 },
 "nbformat": 4,
 "nbformat_minor": 2,
 "cells": [
  {
   "cell_type": "code",
   "execution_count": 1,
   "metadata": {},
   "outputs": [],
   "source": [
    "import numpy as np"
   ]
  },
  {
   "source": [
    "1. 넘파이를 사용하여 다음과 같은 행렬을 만드시오.\n",
    "\n",
    "10 20 30 40\n",
    "\n",
    "50 60 70 80"
   ],
   "cell_type": "markdown",
   "metadata": {}
  },
  {
   "cell_type": "code",
   "execution_count": 2,
   "metadata": {},
   "outputs": [
    {
     "output_type": "execute_result",
     "data": {
      "text/plain": [
       "array([[10, 20, 30, 40],\n",
       "       [50, 60, 70, 80]])"
      ]
     },
     "metadata": {},
     "execution_count": 2
    }
   ],
   "source": [
    "a = np.arange(10, 90, 10).reshape(2,4)\n",
    "a"
   ]
  },
  {
   "source": [
    "2. 다음 행렬과 같은 행렬이 있다.\n",
    "\n",
    "m = np.array([[ 0, 1, 2, 3, 4],\n",
    "\n",
    "              [ 5, 6, 7, 8, 9],\n",
    "              \n",
    "              [10, 11, 12, 13, 14]])\n",
    "              \n",
    " 1) 이 행렬에서 값 7 을 인덱싱한다."
   ],
   "cell_type": "markdown",
   "metadata": {}
  },
  {
   "cell_type": "code",
   "execution_count": 3,
   "metadata": {},
   "outputs": [
    {
     "output_type": "execute_result",
     "data": {
      "text/plain": [
       "array([[ 0,  1,  2,  3,  4],\n",
       "       [ 5,  6,  7,  8,  9],\n",
       "       [10, 11, 12, 13, 14]])"
      ]
     },
     "metadata": {},
     "execution_count": 3
    }
   ],
   "source": [
    "m = np.arange(15).reshape(3,5)\n",
    "m"
   ]
  },
  {
   "cell_type": "code",
   "execution_count": 4,
   "metadata": {},
   "outputs": [
    {
     "output_type": "execute_result",
     "data": {
      "text/plain": [
       "7"
      ]
     },
     "metadata": {},
     "execution_count": 4
    }
   ],
   "source": [
    "m[1,2]"
   ]
  },
  {
   "source": [
    "2) 이 행렬에서 값 14 을 인덱싱한다."
   ],
   "cell_type": "markdown",
   "metadata": {}
  },
  {
   "cell_type": "code",
   "execution_count": 5,
   "metadata": {},
   "outputs": [
    {
     "output_type": "execute_result",
     "data": {
      "text/plain": [
       "14"
      ]
     },
     "metadata": {},
     "execution_count": 5
    }
   ],
   "source": [
    "m[2,4]"
   ]
  },
  {
   "source": [
    "3) 이 행렬에서 배열 [6, 7] 을 슬라이싱한다."
   ],
   "cell_type": "markdown",
   "metadata": {}
  },
  {
   "cell_type": "code",
   "execution_count": 6,
   "metadata": {},
   "outputs": [
    {
     "output_type": "execute_result",
     "data": {
      "text/plain": [
       "array([[6, 7]])"
      ]
     },
     "metadata": {},
     "execution_count": 6
    }
   ],
   "source": [
    "m[1:2,1:3]"
   ]
  },
  {
   "source": [
    "4) 이 행렬에서 배열 [7, 12] 을 슬라이싱한다."
   ],
   "cell_type": "markdown",
   "metadata": {}
  },
  {
   "cell_type": "code",
   "execution_count": 7,
   "metadata": {},
   "outputs": [
    {
     "output_type": "execute_result",
     "data": {
      "text/plain": [
       "array([[ 7],\n",
       "       [12]])"
      ]
     },
     "metadata": {},
     "execution_count": 7
    }
   ],
   "source": [
    "m[1:3,2:3]"
   ]
  },
  {
   "source": [
    "5) 이 행렬에서 배열 [[3, 4], [8, 9]] 을 슬라이싱한다.\n"
   ],
   "cell_type": "markdown",
   "metadata": {}
  },
  {
   "cell_type": "code",
   "execution_count": 8,
   "metadata": {},
   "outputs": [
    {
     "output_type": "execute_result",
     "data": {
      "text/plain": [
       "array([[3, 4],\n",
       "       [8, 9]])"
      ]
     },
     "metadata": {},
     "execution_count": 8
    }
   ],
   "source": [
    "m[:2,3:]"
   ]
  },
  {
   "source": [
    "3. 2번의 행렬 m을 1차원 벡터 f 로 변환한 후 다음의 문제를 푸시오.\n",
    "\n",
    " 1) 이 배열에서 3의 배수를 찾아라.\n"
   ],
   "cell_type": "markdown",
   "metadata": {}
  },
  {
   "cell_type": "code",
   "execution_count": 9,
   "metadata": {},
   "outputs": [
    {
     "output_type": "execute_result",
     "data": {
      "text/plain": [
       "array([ 0,  1,  2,  3,  4,  5,  6,  7,  8,  9, 10, 11, 12, 13, 14])"
      ]
     },
     "metadata": {},
     "execution_count": 9
    }
   ],
   "source": [
    "f=m.reshape(15,)\n",
    "f"
   ]
  },
  {
   "cell_type": "code",
   "execution_count": 10,
   "metadata": {},
   "outputs": [
    {
     "output_type": "execute_result",
     "data": {
      "text/plain": [
       "array([ 0,  3,  6,  9, 12])"
      ]
     },
     "metadata": {},
     "execution_count": 10
    }
   ],
   "source": [
    "f[f%3==0]"
   ]
  },
  {
   "source": [
    "2) 이 배열에서 4로 나누면 1이 남는 수를 찾아라."
   ],
   "cell_type": "markdown",
   "metadata": {}
  },
  {
   "cell_type": "code",
   "execution_count": 11,
   "metadata": {},
   "outputs": [
    {
     "output_type": "execute_result",
     "data": {
      "text/plain": [
       "array([ 1,  5,  9, 13])"
      ]
     },
     "metadata": {},
     "execution_count": 11
    }
   ],
   "source": [
    "f[f%4==1]"
   ]
  },
  {
   "source": [
    "3) 이 배열에서 3으로 나누면 나누어지고 4로 나누면 1이 남는 수를 찾아라."
   ],
   "cell_type": "markdown",
   "metadata": {}
  },
  {
   "cell_type": "code",
   "execution_count": 12,
   "metadata": {},
   "outputs": [
    {
     "output_type": "execute_result",
     "data": {
      "text/plain": [
       "array([9])"
      ]
     },
     "metadata": {},
     "execution_count": 12
    }
   ],
   "source": [
    "f[(f%3==0) & (f%4==1)]"
   ]
  },
  {
   "source": [
    "4. 값을 직접 입력하지 말고\n",
    "우측의 행렬을 만드시오.\n",
    "\n",
    "2, 1, 0, 0, 0\n",
    "\n",
    "3, 2, 1, 0, 0\n",
    "\n",
    "0, 3, 2, 1, 0\n",
    "\n",
    "0, 0, 3, 2, 1\n",
    "\n",
    "0, 0, 0, 3, 2"
   ],
   "cell_type": "markdown",
   "metadata": {}
  },
  {
   "cell_type": "code",
   "execution_count": 13,
   "metadata": {},
   "outputs": [
    {
     "output_type": "execute_result",
     "data": {
      "text/plain": [
       "array([[2., 1., 0., 0., 0.],\n",
       "       [3., 2., 1., 0., 0.],\n",
       "       [0., 3., 2., 1., 0.],\n",
       "       [0., 0., 3., 2., 1.],\n",
       "       [0., 0., 0., 3., 2.]])"
      ]
     },
     "metadata": {},
     "execution_count": 13
    }
   ],
   "source": [
    "np.eye(5, 5, -1)*3 + np.eye(5, 5, 0)*2 + np.eye(5, 5, 1)"
   ]
  },
  {
   "source": [
    "5. 0에서 10까지 랜덤 실수값으로 이루어진 5 x 6 형태의 데이터 행렬을 만들고 이 데이터에 대해 다음과 같은 값을 구하시오.\n",
    "\n",
    " 1) 전체의 최댓값"
   ],
   "cell_type": "markdown",
   "metadata": {}
  },
  {
   "cell_type": "code",
   "execution_count": 14,
   "metadata": {},
   "outputs": [
    {
     "output_type": "execute_result",
     "data": {
      "text/plain": [
       "array([[6.05978279, 7.33369361, 1.38947157, 3.12673084, 9.97243281,\n",
       "        1.28162375],\n",
       "       [1.78993106, 7.52925429, 6.62160514, 7.84310132, 0.96894396,\n",
       "        0.58571285],\n",
       "       [9.6239599 , 6.16557444, 0.86629961, 5.61272363, 6.16524709,\n",
       "        9.63843023],\n",
       "       [5.74304294, 3.71160848, 4.52145244, 2.01850248, 5.69305118,\n",
       "        1.95095974],\n",
       "       [5.83704016, 4.76313474, 5.178144  , 8.23098634, 7.32225027,\n",
       "        0.69056275]])"
      ]
     },
     "metadata": {},
     "execution_count": 14
    }
   ],
   "source": [
    "np.random.seed(2021)\n",
    "a = np.random.uniform(0, 10, 30).reshape(5, 6)\n",
    "a"
   ]
  },
  {
   "cell_type": "code",
   "execution_count": 15,
   "metadata": {},
   "outputs": [
    {
     "output_type": "execute_result",
     "data": {
      "text/plain": [
       "9.972432813403188"
      ]
     },
     "metadata": {},
     "execution_count": 15
    }
   ],
   "source": [
    "a.max()"
   ]
  },
  {
   "source": [
    "2) 각 행의 합"
   ],
   "cell_type": "markdown",
   "metadata": {}
  },
  {
   "cell_type": "code",
   "execution_count": 16,
   "metadata": {},
   "outputs": [
    {
     "output_type": "execute_result",
     "data": {
      "text/plain": [
       "array([29.16373537, 25.33854862, 38.07223489, 23.63861727, 32.02211826])"
      ]
     },
     "metadata": {},
     "execution_count": 16
    }
   ],
   "source": [
    "a.sum(axis = 1)"
   ]
  },
  {
   "source": [
    "3) 각 행의 최댓값"
   ],
   "cell_type": "markdown",
   "metadata": {}
  },
  {
   "cell_type": "code",
   "execution_count": 17,
   "metadata": {},
   "outputs": [
    {
     "output_type": "execute_result",
     "data": {
      "text/plain": [
       "array([9.97243281, 7.84310132, 9.63843023, 5.74304294, 8.23098634])"
      ]
     },
     "metadata": {},
     "execution_count": 17
    }
   ],
   "source": [
    "a.max(axis = 1)"
   ]
  },
  {
   "source": [
    "4) 각 열의 평균"
   ],
   "cell_type": "markdown",
   "metadata": {}
  },
  {
   "cell_type": "code",
   "execution_count": 18,
   "metadata": {},
   "outputs": [
    {
     "output_type": "execute_result",
     "data": {
      "text/plain": [
       "array([5.81075137, 5.90065311, 3.71539455, 5.36640892, 6.02438506,\n",
       "       2.82945787])"
      ]
     },
     "metadata": {},
     "execution_count": 18
    }
   ],
   "source": [
    "a.mean(axis = 0)"
   ]
  },
  {
   "source": [
    "5) 각 열의 최솟값"
   ],
   "cell_type": "markdown",
   "metadata": {}
  },
  {
   "cell_type": "code",
   "execution_count": 19,
   "metadata": {},
   "outputs": [
    {
     "output_type": "execute_result",
     "data": {
      "text/plain": [
       "array([1.78993106, 3.71160848, 0.86629961, 2.01850248, 0.96894396,\n",
       "       0.58571285])"
      ]
     },
     "metadata": {},
     "execution_count": 19
    }
   ],
   "source": [
    "a.min(axis = 0)"
   ]
  },
  {
   "source": [
    "6. 다음 배열은 첫번째 행(row)에 학번, 두번째 행에 영어 성적, 세번째 행에 수학 성적을 적은 배열이다. 영어 성적을 기준으로 각 열(column)을 재정렬하시오.\n",
    "\n",
    "array([[ 1, 2, 3, 4],\n",
    "\n",
    "       [ 46, 99, 100, 71],\n",
    "       \n",
    "       [ 81, 59, 90, 100]])\n"
   ],
   "cell_type": "markdown",
   "metadata": {}
  },
  {
   "cell_type": "code",
   "execution_count": 20,
   "metadata": {},
   "outputs": [
    {
     "output_type": "execute_result",
     "data": {
      "text/plain": [
       "array([[  1,   2,   3,   4],\n",
       "       [ 46,  99, 100,  71],\n",
       "       [ 81,  59,  90, 100]])"
      ]
     },
     "metadata": {},
     "execution_count": 20
    }
   ],
   "source": [
    "b = np.array([[1, 2, 3, 4], [46, 99, 100, 71], [81, 59, 90, 100]])\n",
    "b"
   ]
  },
  {
   "cell_type": "code",
   "execution_count": 21,
   "metadata": {},
   "outputs": [
    {
     "output_type": "execute_result",
     "data": {
      "text/plain": [
       "array([[0, 1, 2, 3],\n",
       "       [0, 3, 1, 2],\n",
       "       [1, 0, 2, 3]], dtype=int64)"
      ]
     },
     "metadata": {},
     "execution_count": 21
    }
   ],
   "source": [
    "b.argsort()"
   ]
  },
  {
   "source": [
    "7. 주사위를 100번 던지는 가상 실험을 파이썬으로 작성하고, \n",
    "던져서 나오는 숫자의 평균을 구하시오."
   ],
   "cell_type": "markdown",
   "metadata": {}
  },
  {
   "cell_type": "code",
   "execution_count": 22,
   "metadata": {},
   "outputs": [
    {
     "output_type": "execute_result",
     "data": {
      "text/plain": [
       "array([3, 3, 1, 3, 5, 4, 4, 2, 2, 2, 3, 4, 4, 5, 4, 2, 5, 2, 2, 5, 4, 4,\n",
       "       4, 4, 3, 2, 4, 3, 3, 3, 1, 5, 4, 2, 4, 2, 5, 3, 4, 2, 3, 3, 3, 4,\n",
       "       5, 2, 2, 1, 1, 5, 2, 4, 5, 1, 4, 2, 4, 2, 4, 2, 2, 4, 4, 2, 4, 2,\n",
       "       1, 2, 3, 1, 4, 1, 1, 2, 4, 5, 4, 5, 2, 5, 2, 2, 5, 2, 3, 5, 4, 2,\n",
       "       3, 4, 3, 1, 1, 5, 4, 2, 4, 5, 5, 5])"
      ]
     },
     "metadata": {},
     "execution_count": 22
    }
   ],
   "source": [
    "python = np.random.randint(1, 6, 100)\n",
    "python"
   ]
  },
  {
   "cell_type": "code",
   "execution_count": 23,
   "metadata": {},
   "outputs": [
    {
     "output_type": "execute_result",
     "data": {
      "text/plain": [
       "3.15"
      ]
     },
     "metadata": {},
     "execution_count": 23
    }
   ],
   "source": [
    "python.mean()"
   ]
  },
  {
   "source": [
    "8. 가격이 10,000원인 주식이 있다. 이 주식의 일간 수익률(%)은 기댓값이 0%이고 표준편차가 1%인 표준 정규 분포를 따른다고 하자. 250일 동안의 주가를 무작위로 생성하시오."
   ],
   "cell_type": "markdown",
   "metadata": {}
  },
  {
   "cell_type": "code",
   "execution_count": null,
   "metadata": {},
   "outputs": [],
   "source": []
  }
 ]
}